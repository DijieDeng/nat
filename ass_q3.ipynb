{
 "cells": [
  {
   "cell_type": "markdown",
   "metadata": {},
   "source": [
    "This is a simple illustration of a [Particle Swarm](https://en.wikipedia.org/wiki/Particle_swarm_optimization) trying to find the minimum of the [Rosenbrock function](https://en.wikipedia.org/wiki/Rosenbrock_function). Obviously the code is imperfect, but this should serve as a useful illustration.\n",
    "\n",
    "Parameters can be set in the \"PSO\" function in the last cell of this notebook. Consider the following tasks:\n",
    "- Higher search space dimensions (you may need more time in this case(\n",
    "- change the population size (does a larger swarm imply shorter search time?>)\n",
    "- Try out other parameter values\n",
    "    - increase or decreast any of w, a1 or a2\n",
    "    - change sign of w\n",
    "- Implement a different goal function, e.g. the [Rastrigin function](https://en.wikipedia.org/wiki/Rastrigin_function). \n",
    "- Add an avarage for statistical evaluation (like wedid in the GA notebook)\n",
    "- If you know python well, you can try to include an animation, e.g. to visualise search biasses "
   ]
  },
  {
   "cell_type": "code",
   "execution_count": 28,
   "metadata": {},
   "outputs": [],
   "source": [
    "import numpy as np\n",
    "import itertools\n",
    "import matplotlib.pyplot as plt\n",
    "import random\n",
    "\n",
    "TOURNAMENT_SIZE = 5    # size of tournament for tournament selection\n",
    "GENERATIONS = 250\n",
    "PROB_MUTATION = 0.01\n",
    "XO_RATE = 0.8"
   ]
  },
  {
   "cell_type": "markdown",
   "metadata": {},
   "source": [
    "The following will be the goal (\"fitness\") function. Here it is to be minimised."
   ]
  },
  {
   "cell_type": "code",
   "execution_count": 2,
   "metadata": {},
   "outputs": [],
   "source": [
    "def rosenbrock(pos,dim):    # this serves as a goal function\n",
    "                            # Defined by f(x,y) = (a-x)^2 + b(y-x^2)^2\n",
    "                            # Using here: a = 1, b= 100, optimum 0 at (1,1)\n",
    "        if dim==2:\n",
    "            return ((1-pos[0])**2 + 100*(pos[1] - pos[0]**2)**2)\n",
    "        elif dim==1:\n",
    "            return (1-pos[0])**2 \n",
    "        else: \n",
    "            ros=0;\n",
    "            for i in range(dim-1):\n",
    "                ros=ros+100*(pos[i+1] - pos[i]**2)**2 * (1-pos[i])**2 \n",
    "            return ros"
   ]
  },
  {
   "cell_type": "code",
   "execution_count": 3,
   "metadata": {},
   "outputs": [],
   "source": [
    "def f1(pos, dim):\n",
    "    return sum([x**2 for x in pos])\n",
    "\n",
    "def f2(pos, dim):\n",
    "    return 10*dim + sum([(x**2 - 10*np.cos(2*np.pi*x)) for x in pos])"
   ]
  },
  {
   "cell_type": "code",
   "execution_count": 122,
   "metadata": {},
   "outputs": [],
   "source": [
    "class Particle: # all the material that is relavant at the level of the individual particles\n",
    "    \n",
    "    def __init__(self, dim, minx, maxx,algo = 'r'):\n",
    "        #np.random.seed(2021)\n",
    "        self.position = np.random.uniform(low=minx, high=maxx, size=dim)\n",
    "        self.velocity = np.random.uniform(low=-0.1, high=0.1, size=dim)\n",
    "        self.best_particle_pos = self.position\n",
    "        self.dim = dim\n",
    "        self.algo = algo\n",
    " \n",
    "\n",
    "        self.fitness = self.getfitness(self.position,dim)\n",
    "        self.best_particle_fitness = self.fitness   # we couldd start with very large number here, \n",
    "                                                    #but the actual value is better in case we are lucky \n",
    "                \n",
    "    def setPos(self, pos,algo = 'r'):\n",
    "        self.position = pos\n",
    "        self.fitness = self.getfitness(self.position,self.dim)\n",
    "        \n",
    "        if self.fitness<self.best_particle_fitness:     # to update the personal best both \n",
    "                                                        # position (for velocity update) and\n",
    "                                                        # fitness (the new standard) are needed\n",
    "                                                        # global best is update on swarm leven\n",
    "            self.best_particle_fitness = self.fitness\n",
    "            self.best_particle_pos = pos\n",
    "      \n",
    "            \n",
    "    def updateVel(self, inertia, a1, a2, best_self_pos, best_swarm_pos):\n",
    "                # Here we use the canonical version\n",
    "                # V <- inertia*V + a1r1 (peronal_best - current_pos) + a2r2 (global_best - current_pos)\n",
    "        cur_vel = self.velocity\n",
    "        r1 = np.random.uniform(low=0, high=1, size = self.dim)\n",
    "        r2 = np.random.uniform(low=0, high=1, size = self.dim)\n",
    "        \n",
    "        a1r1 = np.multiply(a1, r1)\n",
    "        \n",
    "        a2r2 = np.multiply(a2, r2)\n",
    "        best_self_dif = np.subtract(best_self_pos, self.position)\n",
    "        best_swarm_dif = np.subtract(best_swarm_pos, self.position)\n",
    "                    # the next line is the main equation, namely the velocity update, \n",
    "                    # the velocities are added to the positions at swarm level \n",
    "        return inertia*cur_vel + np.multiply(a1r1, best_self_dif) + np.multiply(a2r2, best_swarm_dif)\n",
    "    \n",
    "    def updateVel_repulsive(self, inertia, a1, a2, a3, best_self_pos, best_swarm_pos, poses,idx):\n",
    "        classic_terms = self.updateVel(inertia, a1, a2, best_self_pos, best_swarm_pos)\n",
    "        r3 = np.random.uniform(low=0, high=1, size = self.dim)\n",
    "        a3r3 = np.multiply(a3, r3)\n",
    "        rep = 0\n",
    "        for i in range(len(poses)):\n",
    "            if not i == idx:\n",
    "                dist = sum([x**2 for x in np.subtract(poses[i].position, self.position)])\n",
    "                rep += np.subtract(poses[i].position, self.position)/(dist+np.random.uniform(low=0, high=0.2)**2)\n",
    "                #print(poses[i].position)\n",
    "        #print('term and pos:', np.multiply(a3r3, rep),self.position)\n",
    "        #print(poses[0].position for i in range(len(poses)))\n",
    "        return classic_terms + np.multiply(a3r3, rep)#/(len(poses)-1)\n",
    "    \n",
    "    def getfitness(self):\n",
    "        if self.algo == 'f1':\n",
    "            self.fitness = f1(self.position,self.dim)\n",
    "        elif self.algo == 'f2':\n",
    "            self.fitness = f2(self.position,self.dim)\n",
    "        else:\n",
    "            self.fitness = rosenbrock(self.position,self.dim)\n",
    "        return self.fitness\n",
    "    \n",
    "    def partial(self, length):\n",
    "        return (self.position[randint(0,self.dim-length):])[:length]\n",
    "    \n",
    "    def mutation(self):\n",
    "        for i in range(self.dim):\n",
    "            if random.random() < PROB_MUTATION:\n",
    "                self.position[i] = random.uniform(-5.14,5.14)\n",
    "                self.fitness = self.getfitness()\n",
    "                \n",
    "    def crossover(self, other):\n",
    "        idx = self.dim\n",
    "        if random.random() < XO_RATE:\n",
    "            idx = random.randint(1,self.dim-2)\n",
    "            print(idx)\n",
    "        self.position = np.concatenate((self.position[:idx],other.position[idx:]),axis=0)\n",
    "        self.fitness = self.getfitness()\n",
    "        "
   ]
  },
  {
   "cell_type": "code",
   "execution_count": 123,
   "metadata": {},
   "outputs": [],
   "source": [
    "class PSO: # all the material that is relavant at swarm leveel\n",
    "\n",
    "    def __init__(self, w, a1, a2, dim=2, population_size=30, time_steps=1000, search_range=5.12,algo='r',rep=0,a3=0,printset = 10,show=1, swarms = []):\n",
    "\n",
    "        # Here we use values that are (somewhat) known to be good\n",
    "        # There are no \"best\" parameters (No Free Lunch), so try using different ones\n",
    "        # There are several papers online which discuss various different tunings of a1 and a2\n",
    "        # for different types of problems\n",
    "        self.w = w # Inertia\n",
    "        self.a1 = a2 # Attraction to personal best\n",
    "        self.a2 = a2 # Attraction to global best\n",
    "        self.a3 = a3\n",
    "        self.printset = printset\n",
    "        self.dim = dim\n",
    "        self.rep = rep\n",
    "        self.show = show\n",
    "        if swarms:\n",
    "            self.swarm = swarms\n",
    "        else: \n",
    "            self.swarm = [Particle(dim,-search_range,search_range,algo) for i in range(population_size)]\n",
    "\n",
    "        \n",
    "        self.time_steps = time_steps\n",
    "        #print('init')\n",
    "\n",
    "        # Initialising global best, you can wait until the end of the first time step\n",
    "        # but creating a random initial best and fitness which is very high will mean you\n",
    "        # do not have to write an if statement for the one off case\n",
    "        self.best_swarm_pos = np.random.uniform(low=-5.12, high=5.12, size=dim)\n",
    "        self.best_swarm_fitness = 1e100\n",
    "\n",
    "\n",
    "    def run(self):\n",
    "        for t in range(self.time_steps):\n",
    "            #print(t)\n",
    "            for p in range(len(self.swarm)):\n",
    "                particle = self.swarm[p]\n",
    "                #print(particle.position)\n",
    "                if self.rep == 0:\n",
    "                    new_position = particle.position + particle.updateVel(self.w, self.a1, self.a2, particle.best_particle_pos, self.best_swarm_pos)\n",
    "                else:\n",
    "                    new_position = particle.position + particle.updateVel_repulsive(self.w, self.a1, self.a2, self.a3,\n",
    "                                                                                    particle.best_particle_pos, self.best_swarm_pos,poses=self.swarm,idx=p)\n",
    "                #print(new_position)\n",
    "                if new_position@new_position > 1.0e+18: # The search will be terminated if the distance \n",
    "                                                        # of any particle from center is too large\n",
    "                    print('Time:', t,'Best Pos:',self.best_swarm_pos,'Best Fit:',self.best_swarm_fitness)\n",
    "                    raise SystemExit('Most likely divergent: Decrease parameter values')\n",
    "\n",
    "                \n",
    "                self.swarm[p].setPos(self.posWithinRange(new_position))\n",
    "                new_fitness = self.swarm[p].getfitness(new_position,self.dim)\n",
    "\n",
    "                if new_fitness < self.best_swarm_fitness:   # to update the global best both \n",
    "                                                            # position (for velocity update) and\n",
    "                                                            # fitness (the new group norm) are needed\n",
    "                    self.best_swarm_fitness = new_fitness\n",
    "                    self.best_swarm_pos = new_position\n",
    "            if self.show:\n",
    "                if t % self.printset == 0: #we print only two components even it search space is high-dimensional\n",
    "                    if self.dim == 2:\n",
    "                        print(\"Time: %6d,  Best Fitness: %14.9f,  Best Pos: %9.4f,%9.4f\" % (t,self.best_swarm_fitness,self.best_swarm_pos[0],self.best_swarm_pos[1]), end =\" \") \n",
    "                    if self.dim == 3:\n",
    "                        print(\"Time: %6d,  Best Fitness: %14.9f,  Best Pos: %7.4f,%7.4f,%7.4f\\n\" % (t,self.best_swarm_fitness,self.best_swarm_pos[0],self.best_swarm_pos[1],self.best_swarm_pos[2]), end =\" \") \n",
    "                    elif self.dim>3: \n",
    "                        print('...')\n",
    "                    else:\n",
    "                        print('')\n",
    "\n",
    "    def bestFitness(self):\n",
    "        return self.best_swarm_fitness\n",
    "                    \n",
    "    def posWithinRange(self,pos):\n",
    "        new_position = pos\n",
    "        if new_position[0] > 5.12:\n",
    "            new_position[0] = 5.12-np.random.uniform(low=0, high=1)\n",
    "        elif new_position[0] < -5.12:\n",
    "            new_position[0] = -5.12+np.random.uniform(low=0, high=1)\n",
    "\n",
    "        if new_position[1] > 5.12:\n",
    "            new_position[1] = 5.12-np.random.uniform(low=0, high=1)\n",
    "        elif new_position[1] < -5.12:\n",
    "            new_position[1] = -5.12+np.random.uniform(low=0, high=1)\n",
    "        return new_position\n",
    "              "
   ]
  },
  {
   "cell_type": "markdown",
   "metadata": {},
   "source": [
    "Standard values are dim=2, w=0.7, a1=2.02, a2=2.02, population_size=30; but feel free to try others ones."
   ]
  },
  {
   "cell_type": "code",
   "execution_count": 124,
   "metadata": {},
   "outputs": [],
   "source": [
    "class PSOWithGA:\n",
    "\n",
    "    def __init__(self, w, a1, a2, dim=2, population_size=30, time_steps=1000, search_range=5.12,algo='r',rep=0,a3=0,printset = 10,show=1, swarms = []):\n",
    "\n",
    "        # Here we use values that are (somewhat) known to be good\n",
    "        # There are no \"best\" parameters (No Free Lunch), so try using different ones\n",
    "        # There are several papers online which discuss various different tunings of a1 and a2\n",
    "        # for different types of problems\n",
    "        self.w = w # Inertia\n",
    "        self.a1 = a2 # Attraction to personal best\n",
    "        self.a2 = a2 # Attraction to global best\n",
    "        self.a3 = a3\n",
    "        self.printset = printset\n",
    "        self.dim = dim\n",
    "        self.rep = rep\n",
    "        self.show = show\n",
    "        if swarms:\n",
    "            self.swarm = swarms\n",
    "        else: \n",
    "            self.swarm = [Particle(dim,-search_range,search_range,algo) for i in range(population_size)]\n",
    "\n",
    "        \n",
    "        self.time_steps = time_steps\n",
    "        #print('init')\n",
    "\n",
    "        # Initialising global best, you can wait until the end of the first time step\n",
    "        # but creating a random initial best and fitness which is very high will mean you\n",
    "        # do not have to write an if statement for the one off case\n",
    "        self.best_swarm_pos = np.random.uniform(low=-5.12, high=5.12, size=dim)\n",
    "        self.best_swarm_fitness = 1e100\n",
    "\n",
    "\n",
    "    def run(self):\n",
    "        for t in range(self.time_steps):\n",
    "            #print(t)\n",
    "            for p in range(len(self.swarm)):\n",
    "                particle = self.swarm[p]\n",
    "                #print(particle.position)\n",
    "                if self.rep == 0:\n",
    "                    new_position = particle.position + particle.updateVel(self.w, self.a1, self.a2, particle.best_particle_pos, self.best_swarm_pos)\n",
    "                else:\n",
    "                    new_position = particle.position + particle.updateVel_repulsive(self.w, self.a1, self.a2, self.a3,\n",
    "                                                                                    particle.best_particle_pos, self.best_swarm_pos,poses=self.swarm,idx=p)\n",
    "                #print(new_position)\n",
    "                if new_position@new_position > 1.0e+18: # The search will be terminated if the distance \n",
    "                                                        # of any particle from center is too large\n",
    "                    print('Time:', t,'Best Pos:',self.best_swarm_pos,'Best Fit:',self.best_swarm_fitness)\n",
    "                    raise SystemExit('Most likely divergent: Decrease parameter values')\n",
    "\n",
    "                \n",
    "                self.swarm[p].setPos(self.posWithinRange(new_position))\n",
    "                new_fitness = self.swarm[p].getfitness(new_position,self.dim)\n",
    "\n",
    "                if new_fitness < self.best_swarm_fitness:   # to update the global best both \n",
    "                                                            # position (for velocity update) and\n",
    "                                                            # fitness (the new group norm) are needed\n",
    "                    self.best_swarm_fitness = new_fitness\n",
    "                    self.best_swarm_pos = new_position\n",
    "            if self.show:\n",
    "                if t % self.printset == 0: #we print only two components even it search space is high-dimensional\n",
    "                    if self.dim == 2:\n",
    "                        print(\"Time: %6d,  Best Fitness: %14.9f,  Best Pos: %9.4f,%9.4f\" % (t,self.best_swarm_fitness,self.best_swarm_pos[0],self.best_swarm_pos[1]), end =\" \") \n",
    "                    if self.dim == 3:\n",
    "                        print(\"Time: %6d,  Best Fitness: %14.9f,  Best Pos: %7.4f,%7.4f,%7.4f\\n\" % (t,self.best_swarm_fitness,self.best_swarm_pos[0],self.best_swarm_pos[1],self.best_swarm_pos[2]), end =\" \") \n",
    "                    elif self.dim>3: \n",
    "                        print(\"Time: %6d,  Best Fitness: %14.9f,  Best Pos: %9.4f,%9.4f\\n\" % (t,self.best_swarm_fitness,self.best_swarm_pos[0],self.best_swarm_pos[1]), end =\" \") \n",
    "                    else:\n",
    "                        print('')\n",
    "\n",
    "    def bestFitness(self):\n",
    "        return self.best_swarm_fitness\n",
    "                    \n",
    "    def posWithinRange(self,pos):\n",
    "        new_position = pos\n",
    "        if new_position[0] > 5.12:\n",
    "            new_position[0] = 5.12-np.random.uniform(low=0, high=1)\n",
    "        elif new_position[0] < -5.12:\n",
    "            new_position[0] = -5.12+np.random.uniform(low=0, high=1)\n",
    "\n",
    "        if new_position[1] > 5.12:\n",
    "            new_position[1] = 5.12-np.random.uniform(low=0, high=1)\n",
    "        elif new_position[1] < -5.12:\n",
    "            new_position[1] = -5.12+np.random.uniform(low=0, high=1)\n",
    "        return new_position\n",
    "              "
   ]
  },
  {
   "cell_type": "code",
   "execution_count": null,
   "metadata": {},
   "outputs": [],
   "source": [
    "def GA(population):\n",
    "    fitness = [p.fitness for p in population]\n",
    "    for _ in range(GENERATIONS):        \n",
    "        nextgen_population=[]\n",
    "        \n",
    "        for i in range(POP_SIZE):\n",
    "            parent1 = selection(population, fitnesses)\n",
    "            parent2 = selection(population, fitnesses)\n",
    "            parent1.crossover(parent2)\n",
    "            parent1.mutation()\n",
    "            nextgen_population.append(parent1)\n",
    "        population=nextgen_population"
   ]
  },
  {
   "cell_type": "code",
   "execution_count": null,
   "metadata": {},
   "outputs": [],
   "source": [
    "def selection(population, fitnesses): # select one individual using tournament selection\n",
    "    tournament = [randint(0, len(population)-1) for i in range(TOURNAMENT_SIZE)] # select tournament contenders\n",
    "    tournament_fitnesses = [fitnesses[tournament[i]] for i in range(TOURNAMENT_SIZE)]\n",
    "    return deepcopy(population[tournament[tournament_fitnesses.index(max(tournament_fitnesses))]]) "
   ]
  },
  {
   "cell_type": "code",
   "execution_count": 129,
   "metadata": {},
   "outputs": [],
   "source": [
    "population_size = 30\n",
    "particles = []\n",
    "for i in range(population_size):\n",
    "     particles.append(Particle(10,-5.12,5.12,'f1'))\n",
    "    "
   ]
  },
  {
   "cell_type": "code",
   "execution_count": 130,
   "metadata": {},
   "outputs": [],
   "source": [
    "a = particles[0]\n",
    "b = particles[1]"
   ]
  },
  {
   "cell_type": "code",
   "execution_count": 132,
   "metadata": {},
   "outputs": [
    {
     "data": {
      "text/plain": [
       "array([ 0.60762853, -0.04942355,  0.83569519,  0.36389006,  1.1452644 ,\n",
       "        2.8620585 ,  2.67306361,  0.36207847,  4.13247195, -2.63432107])"
      ]
     },
     "execution_count": 132,
     "metadata": {},
     "output_type": "execute_result"
    }
   ],
   "source": [
    "a.position"
   ]
  },
  {
   "cell_type": "code",
   "execution_count": 133,
   "metadata": {},
   "outputs": [
    {
     "data": {
      "text/plain": [
       "array([ 0.34468868, -1.17309994,  3.62758857,  2.34083541,  1.0344212 ,\n",
       "       -3.35971737,  1.12565168,  2.06450622, -0.64117224,  2.17699142])"
      ]
     },
     "execution_count": 133,
     "metadata": {},
     "output_type": "execute_result"
    }
   ],
   "source": [
    "b.position"
   ]
  },
  {
   "cell_type": "code",
   "execution_count": 136,
   "metadata": {},
   "outputs": [
    {
     "name": "stdout",
     "output_type": "stream",
     "text": [
      "2\n"
     ]
    }
   ],
   "source": [
    "a.crossover(b)"
   ]
  },
  {
   "cell_type": "code",
   "execution_count": 137,
   "metadata": {},
   "outputs": [
    {
     "data": {
      "text/plain": [
       "array([ 0.60762853, -0.04942355,  3.62758857,  2.34083541,  1.0344212 ,\n",
       "       -3.35971737,  1.12565168,  2.06450622, -0.64117224,  2.17699142])"
      ]
     },
     "execution_count": 137,
     "metadata": {},
     "output_type": "execute_result"
    }
   ],
   "source": [
    "a.position"
   ]
  },
  {
   "cell_type": "code",
   "execution_count": null,
   "metadata": {},
   "outputs": [],
   "source": [
    "PSO(dim=3, w=0.7, a1=2.02, a2=2.02, population_size=30, time_steps=1001, search_range=5.12,algo='f2',printset= 100).run()"
   ]
  }
 ],
 "metadata": {
  "kernelspec": {
   "display_name": "Python 3",
   "language": "python",
   "name": "python3"
  },
  "language_info": {
   "codemirror_mode": {
    "name": "ipython",
    "version": 3
   },
   "file_extension": ".py",
   "mimetype": "text/x-python",
   "name": "python",
   "nbconvert_exporter": "python",
   "pygments_lexer": "ipython3",
   "version": "3.8.10"
  }
 },
 "nbformat": 4,
 "nbformat_minor": 4
}
